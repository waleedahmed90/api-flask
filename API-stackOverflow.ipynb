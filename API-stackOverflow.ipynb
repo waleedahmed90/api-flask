{
 "cells": [
  {
   "cell_type": "code",
   "execution_count": 1,
   "metadata": {},
   "outputs": [],
   "source": [
    "import requests\n",
    "import json"
   ]
  },
  {
   "cell_type": "code",
   "execution_count": 3,
   "metadata": {},
   "outputs": [],
   "source": [
    "response = requests.get('https://api.stackexchange.com/2.3/questions?order=desc&sort=activity&site=stackoverflow')"
   ]
  },
  {
   "cell_type": "code",
   "execution_count": 12,
   "metadata": {},
   "outputs": [
    {
     "name": "stdout",
     "output_type": "stream",
     "text": [
      "<Response [200]>\n",
      "17721244\n"
     ]
    }
   ],
   "source": [
    "print(response)\n",
    "# print(response.json())\n",
    "# print(response.json()['items'])\n",
    "# print(response.json()['items'][0])\n",
    "# print(response.json()['items'][0]['owner'])\n",
    "print(response.json()['items'][0]['owner']['account_id'])"
   ]
  },
  {
   "cell_type": "code",
   "execution_count": 17,
   "metadata": {},
   "outputs": [
    {
     "name": "stdout",
     "output_type": "stream",
     "text": [
      "oracle sql developer running\n",
      "https://stackoverflow.com/questions/74423843/oracle-sql-developer-running\n",
      "\n",
      "Can&#39;t access the value of int in a double list sml\n",
      "https://stackoverflow.com/questions/74419969/cant-access-the-value-of-int-in-a-double-list-sml\n",
      "\n",
      "skipped\n",
      "\n",
      "Best way to run a script that takes a long time (48 hours) to run?\n",
      "https://stackoverflow.com/questions/74423841/best-way-to-run-a-script-that-takes-a-long-time-48-hours-to-run\n",
      "\n",
      "skipped\n",
      "\n",
      "skipped\n",
      "\n",
      "JavaFX How to properly print QWERTY keyboard to screen using HBox and VBox?\n",
      "https://stackoverflow.com/questions/74423840/javafx-how-to-properly-print-qwerty-keyboard-to-screen-using-hbox-and-vbox\n",
      "\n",
      "how to alternate words in typewriter effect with javascript\n",
      "https://stackoverflow.com/questions/74423839/how-to-alternate-words-in-typewriter-effect-with-javascript\n",
      "\n",
      "GraphiQL Mutation: How can I ignore other objects in query variables\n",
      "https://stackoverflow.com/questions/74423526/graphiql-mutation-how-can-i-ignore-other-objects-in-query-variables\n",
      "\n",
      "skipped\n",
      "\n",
      "skipped\n",
      "\n",
      "skipped\n",
      "\n",
      "installing Pymsgbox gives an error, how can I fix it?\n",
      "https://stackoverflow.com/questions/74423738/installing-pymsgbox-gives-an-error-how-can-i-fix-it\n",
      "\n",
      "skipped\n",
      "\n",
      "GCC 12 (minGW 64): how to enable fused multiply add code generation\n",
      "https://stackoverflow.com/questions/74423836/gcc-12-mingw-64-how-to-enable-fused-multiply-add-code-generation\n",
      "\n",
      "skipped\n",
      "\n",
      "Gamma function JavaScript\n",
      "https://stackoverflow.com/questions/74423834/gamma-function-javascript\n",
      "\n",
      "skipped\n",
      "\n",
      "Http Web Request (Post) C#\n",
      "https://stackoverflow.com/questions/74423832/http-web-request-post-c\n",
      "\n",
      "skipped\n",
      "\n",
      "List of strings replace each instance of a certain value in each string with another value\n",
      "https://stackoverflow.com/questions/74423822/list-of-strings-replace-each-instance-of-a-certain-value-in-each-string-with-ano\n",
      "\n",
      "skipped\n",
      "\n",
      "skipped\n",
      "\n",
      "skipped\n",
      "\n",
      "skipped\n",
      "\n",
      "skipped\n",
      "\n",
      "skipped\n",
      "\n",
      "Do Kafka Streams replay source topics if state store didn&#39;t get flushed into changelog?\n",
      "https://stackoverflow.com/questions/74423828/do-kafka-streams-replay-source-topics-if-state-store-didnt-get-flushed-into-cha\n",
      "\n",
      "How can I do preview changeable post on facebook\n",
      "https://stackoverflow.com/questions/74423827/how-can-i-do-preview-changeable-post-on-facebook\n",
      "\n",
      "skipped\n",
      "\n"
     ]
    }
   ],
   "source": [
    "for questions in response.json()['items']:\n",
    "    if questions['answer_count'] == 0:\n",
    "        print(questions['title'])\n",
    "        print(questions['link'])\n",
    "    else:\n",
    "        print('skipped')\n",
    "    print()"
   ]
  },
  {
   "cell_type": "code",
   "execution_count": null,
   "metadata": {},
   "outputs": [],
   "source": []
  }
 ],
 "metadata": {
  "kernelspec": {
   "display_name": "Python 3",
   "language": "python",
   "name": "python3"
  },
  "language_info": {
   "codemirror_mode": {
    "name": "ipython",
    "version": 3
   },
   "file_extension": ".py",
   "mimetype": "text/x-python",
   "name": "python",
   "nbconvert_exporter": "python",
   "pygments_lexer": "ipython3",
   "version": "3.8.10"
  }
 },
 "nbformat": 4,
 "nbformat_minor": 4
}
